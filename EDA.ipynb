{
  "nbformat": 4,
  "nbformat_minor": 0,
  "metadata": {
    "colab": {
      "name": "EDA.ipynb",
      "provenance": [],
      "include_colab_link": true
    },
    "kernelspec": {
      "name": "python3",
      "display_name": "Python 3"
    },
    "language_info": {
      "name": "python"
    }
  },
  "cells": [
    {
      "cell_type": "markdown",
      "metadata": {
        "id": "view-in-github",
        "colab_type": "text"
      },
      "source": [
        "<a href=\"https://colab.research.google.com/github/datasciencepractice/EDA/blob/main/EDA.ipynb\" target=\"_parent\"><img src=\"https://colab.research.google.com/assets/colab-badge.svg\" alt=\"Open In Colab\"/></a>"
      ]
    },
    {
      "cell_type": "markdown",
      "metadata": {
        "id": "LRfP7ujJthul"
      },
      "source": [
        "EDA Related Practice"
      ]
    },
    {
      "cell_type": "code",
      "metadata": {
        "id": "P77H98TRtfNq"
      },
      "source": [
        "import pandas as pd\n",
        "rating = pd.read_csv('https://query.data.world/s/EX0EpmqwfA2UYGz1Xtd_zi4R0dQpog')"
      ],
      "execution_count": 2,
      "outputs": []
    },
    {
      "cell_type": "code",
      "metadata": {
        "id": "AZFHvb9QeLic",
        "outputId": "d8ca2e3a-7234-41f5-e9df-9a109c3dd8a6",
        "colab": {
          "base_uri": "https://localhost:8080/"
        }
      },
      "source": [
        "rating_update = rating.drop_duplicates()\n",
        "\n",
        "print(rating.shape)\n",
        "print(rating_update.shape)"
      ],
      "execution_count": 4,
      "outputs": [
        {
          "output_type": "stream",
          "text": [
            "(1254, 5)\n",
            "(1149, 5)\n"
          ],
          "name": "stdout"
        }
      ]
    },
    {
      "cell_type": "code",
      "metadata": {
        "id": "tpY_b0iKqQLT"
      },
      "source": [
        "import pandas as pd\n",
        "df = pd.read_csv('https://query.data.world/s/Hfu_PsEuD1Z_yJHmGaxWTxvkz7W_b0')"
      ],
      "execution_count": 1,
      "outputs": []
    },
    {
      "cell_type": "code",
      "metadata": {
        "id": "EUEdEAYzLc-T",
        "outputId": "11a45fb7-067c-45bb-d6b8-02e42eb1dd90",
        "colab": {
          "base_uri": "https://localhost:8080/"
        }
      },
      "source": [
        "missingval= df.isnull().sum()\n",
        "missingval"
      ],
      "execution_count": 3,
      "outputs": [
        {
          "output_type": "execute_result",
          "data": {
            "text/plain": [
              "Ord_id                   0\n",
              "Prod_id                  0\n",
              "Ship_id                  0\n",
              "Cust_id                  0\n",
              "Sales                   20\n",
              "Discount                55\n",
              "Order_Quantity          55\n",
              "Profit                  55\n",
              "Shipping_Cost           55\n",
              "Product_Base_Margin    109\n",
              "dtype: int64"
            ]
          },
          "metadata": {
            "tags": []
          },
          "execution_count": 3
        }
      ]
    },
    {
      "cell_type": "code",
      "metadata": {
        "id": "UdpUgO2yLror",
        "outputId": "a45c6f05-1fdd-46e6-f70b-8cfb4cecbd62",
        "colab": {
          "base_uri": "https://localhost:8080/"
        }
      },
      "source": [
        "import pandas as pd\n",
        "df = pd.read_csv('https://query.data.world/s/Hfu_PsEuD1Z_yJHmGaxWTxvkz7W_b0')\n",
        "print(round(df.isnull().sum() / df.shape[0] * 100.00,2))"
      ],
      "execution_count": 7,
      "outputs": [
        {
          "output_type": "stream",
          "text": [
            "Ord_id                 0.000000\n",
            "Prod_id                0.000000\n",
            "Ship_id                0.000000\n",
            "Cust_id                0.000000\n",
            "Sales                  0.238124\n",
            "Discount               0.654840\n",
            "Order_Quantity         0.654840\n",
            "Profit                 0.654840\n",
            "Shipping_Cost          0.654840\n",
            "Product_Base_Margin    1.297774\n",
            "dtype: float64\n"
          ],
          "name": "stdout"
        }
      ]
    },
    {
      "cell_type": "code",
      "metadata": {
        "id": "Qv6H7TCSMtoQ"
      },
      "source": [
        ""
      ],
      "execution_count": null,
      "outputs": []
    }
  ]
}